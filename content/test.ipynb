{
 "cells": [
  {
   "cell_type": "code",
   "execution_count": null,
   "metadata": {},
   "outputs": [],
   "source": [
    "import numpy as np\n",
    "import matplotlib.pyplot as plt\n",
    "from ipywidgets import interact, IntSlider, FloatSlider\n",
    "plt.rcParams[\"axes.spines.bottom\"] = False\n",
    "plt.rcParams[\"axes.spines.left\"] = False\n",
    "plt.rcParams[\"axes.spines.right\"] = False\n",
    "plt.rcParams[\"axes.spines.top\"] = False"
   ]
  },
  {
   "cell_type": "code",
   "execution_count": null,
   "metadata": {},
   "outputs": [],
   "source": [
    "def dft_of_cos(T, N):\n",
    "    ns = np.arange(N)\n",
    "    n_ext = np.concatenate([ns[N//2:]-N, ns, ns[:N//2]+N])\n",
    "    x = np.cos(2*np.pi*ns/T)\n",
    "    x_ext = np.concatenate([x[N//2:], x, x[:N//2]])\n",
    "    X = np.fft.fft(x, norm=\"ortho\").real # cos is even, so dft will be real\n",
    "    fig, (axl, axr) = plt.subplots(1, 2, figsize=(12, 4), tight_layout=True)\n",
    "    axl.stem(ns[N//2:]-N, x[N//2:], linefmt='C0-', markerfmt='C0o', basefmt='C0-')\n",
    "    axl.stem(n_ext, x_ext, linefmt='silver', markerfmt='silver', basefmt='silver', label='periodic extension')\n",
    "    axl.stem(ns, x, linefmt='C0', markerfmt='C0', basefmt='C0', label='signal')\n",
    "    axl.legend(loc='lower left')\n",
    "    axl.set_title('x(n)')\n",
    "    axr.stem(ns, X, linefmt='C1', markerfmt='C1', basefmt='C1')\n",
    "    axr.set_title('X(k)')\n",
    "    axl.set_yticks([]); axr.set_yticks([])\n",
    "    \n",
    "interact(dft_of_cos, T=IntSlider(min=1, max=32, step=1, value=10), N=IntSlider(min=8, max=32, step=1, value=16));"
   ]
  }
 ],
 "metadata": {
  "language_info": {
   "name": "python"
  },
  "orig_nbformat": 4
 },
 "nbformat": 4,
 "nbformat_minor": 2
}
